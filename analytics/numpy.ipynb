{
 "cells": [
  {
   "cell_type": "code",
   "execution_count": null,
   "metadata": {},
   "outputs": [],
   "source": [
    "import numpy as np"
   ]
  },
  {
   "cell_type": "markdown",
   "metadata": {},
   "source": [
    "create"
   ]
  },
  {
   "cell_type": "code",
   "execution_count": null,
   "metadata": {},
   "outputs": [],
   "source": [
    "x1 = np.array([2,3,1,5])\n",
    "print(x1)\n",
    "print(type(x1))"
   ]
  },
  {
   "cell_type": "code",
   "execution_count": null,
   "metadata": {},
   "outputs": [],
   "source": [
    "x2 = np.array([\n",
    "    [1,2,3],\n",
    "    [4,5,6]\n",
    "])\n",
    "print(x2)\n",
    "print(type(x2))"
   ]
  },
  {
   "cell_type": "code",
   "execution_count": null,
   "metadata": {},
   "outputs": [],
   "source": [
    "x3 = np.array([\n",
    "    [[1,2],[3,4]],\n",
    "    [[5,6],[7,8]]\n",
    "])\n",
    "print(x3)"
   ]
  },
  {
   "cell_type": "markdown",
   "metadata": {},
   "source": [
    "methods to create matrix\n",
    "- 1D\n",
    "    - `arange()` - start, stop, step\n",
    "    - `linspace()` - start, stop, numOfElements\n",
    "- nD\n",
    "    - `random.randint()` - low, high, size"
   ]
  },
  {
   "cell_type": "code",
   "execution_count": null,
   "metadata": {},
   "outputs": [],
   "source": [
    "a = np.arange(10, 51, 0.5)\n",
    "print(a)\n",
    "print(a.shape) # gives the numbers of items in the array"
   ]
  },
  {
   "cell_type": "code",
   "execution_count": null,
   "metadata": {},
   "outputs": [],
   "source": [
    "b = np.linspace(10, 20, 100)\n",
    "print(b)"
   ]
  },
  {
   "cell_type": "code",
   "execution_count": null,
   "metadata": {},
   "outputs": [],
   "source": [
    "c = np.random.randint(-100, 100, (5,5))\n",
    "print(c)"
   ]
  },
  {
   "cell_type": "code",
   "execution_count": null,
   "metadata": {},
   "outputs": [],
   "source": [
    "a = np.array([\n",
    "    [2,4,6],\n",
    "    [1,3,5]\n",
    "])\n",
    "b = np.array([\n",
    "    [1,2],\n",
    "    [5,1],\n",
    "    [3,2]\n",
    "])\n",
    "print(a, b, sep='\\n')\n",
    "print(a@b) # matrix multiplication (dot product)"
   ]
  },
  {
   "cell_type": "markdown",
   "metadata": {},
   "source": [
    "properties"
   ]
  },
  {
   "cell_type": "code",
   "execution_count": null,
   "metadata": {},
   "outputs": [],
   "source": [
    "print(a)\n",
    "print('size')\n",
    "print(a.size)\n",
    "print('shape')\n",
    "print(a.shape)\n",
    "print('dimension')\n",
    "print(a.ndim)\n",
    "print('dtype')\n",
    "print(a.dtype)"
   ]
  },
  {
   "cell_type": "code",
   "execution_count": null,
   "metadata": {},
   "outputs": [],
   "source": [
    "x = np.random.randint(10,99, (4,5))\n",
    "print(x)\n",
    "print(x.reshape(5,4))\n",
    "print(x.reshape(1,20))\n",
    "print(x.reshape(20,1))\n",
    "print(x.reshape(2,10))\n",
    "print(x.reshape(10,2))"
   ]
  },
  {
   "cell_type": "code",
   "execution_count": null,
   "metadata": {},
   "outputs": [],
   "source": [
    "print(x.flatten()) # n dimensional array to 1 dimensional array"
   ]
  },
  {
   "cell_type": "code",
   "execution_count": null,
   "metadata": {},
   "outputs": [],
   "source": [
    "y = np.random.randint(10, 99, (5, 2))\n",
    "print(y)"
   ]
  },
  {
   "cell_type": "code",
   "execution_count": null,
   "metadata": {},
   "outputs": [],
   "source": [
    "y.T"
   ]
  },
  {
   "cell_type": "markdown",
   "metadata": {},
   "source": [
    "maths and stats"
   ]
  },
  {
   "cell_type": "code",
   "execution_count": null,
   "metadata": {},
   "outputs": [],
   "source": [
    "a = np.array([\n",
    "    [2,4],\n",
    "    [1,3]\n",
    "])\n",
    "b = np.array([\n",
    "    [1,2],\n",
    "    [5,1]\n",
    "])\n",
    "# addition\n",
    "print(a + b)\n",
    "# subtraction\n",
    "print(a - b)\n",
    "# division\n",
    "print(a / b)\n",
    "# multiplication\n",
    "print(a * b)\n",
    "# dot product\n",
    "print(a @ b) # matrix multiplication"
   ]
  },
  {
   "cell_type": "code",
   "execution_count": null,
   "metadata": {},
   "outputs": [],
   "source": [
    "print(y)\n",
    "print(y.sum()) # summation of all elements\n",
    "print(y.sum(axis=0)) # summation of each column\n",
    "print(y.sum(axis=1)) # summation of each row\n",
    "\n",
    "# max and min\n",
    "print(y.max(), y.min()) \n",
    "# argmax and argmin -> information about the index of the max and min\n",
    "print(y.argmax(), y.argmin())"
   ]
  },
  {
   "cell_type": "markdown",
   "metadata": {},
   "source": [
    "slicing\n",
    "- 1D array\n",
    "```python\n",
    "x[start:stop:step]\n",
    "```\n",
    "- 2D array\n",
    "```python\n",
    "x[rowStart:rowStop:rowStep, colStart:colStop:colStep]\n",
    "```"
   ]
  },
  {
   "cell_type": "code",
   "execution_count": null,
   "metadata": {},
   "outputs": [],
   "source": [
    "x = np.random.randint(10, 100, (10, 10))\n",
    "print(x)"
   ]
  },
  {
   "cell_type": "code",
   "execution_count": null,
   "metadata": {},
   "outputs": [],
   "source": [
    "print(x[0,0]) # first element\n",
    "print(x[-1,-1]) # last element\n",
    "print(x[0]) # first row \n",
    "print(x[-1]) # last row \n",
    "print(x[:, 0]) # first column\n",
    "print(x[:, -1]) # last column\n",
    "print(x[:5, 1]) # first 5 rows of the second column\n",
    "print(x[-5:, 3]) # first 5 rows of the fourth column\n",
    "print(x[:, :3]) # first 3 columns\n",
    "print(x[:, -3:]) # last 3 columns"
   ]
  },
  {
   "cell_type": "code",
   "execution_count": null,
   "metadata": {},
   "outputs": [],
   "source": [
    "# find index\n",
    "print(np.where(x == 66))"
   ]
  },
  {
   "cell_type": "code",
   "execution_count": null,
   "metadata": {},
   "outputs": [],
   "source": [
    "# count \n",
    "print(np.count_nonzero(x == 11))"
   ]
  },
  {
   "cell_type": "code",
   "execution_count": null,
   "metadata": {},
   "outputs": [],
   "source": []
  }
 ],
 "metadata": {
  "kernelspec": {
   "display_name": "base",
   "language": "python",
   "name": "python3"
  },
  "language_info": {
   "codemirror_mode": {
    "name": "ipython",
    "version": 3
   },
   "file_extension": ".py",
   "mimetype": "text/x-python",
   "name": "python",
   "nbconvert_exporter": "python",
   "pygments_lexer": "ipython3",
   "version": "3.11.7"
  }
 },
 "nbformat": 4,
 "nbformat_minor": 2
}
