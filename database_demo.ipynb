{
 "cells": [
  {
   "cell_type": "code",
   "execution_count": null,
   "metadata": {},
   "outputs": [],
   "source": [
    "from database import User, Message\n",
    "from database import get_db, save_to_db"
   ]
  },
  {
   "cell_type": "markdown",
   "metadata": {},
   "source": [
    "adding some data to users and message"
   ]
  },
  {
   "cell_type": "code",
   "execution_count": null,
   "metadata": {},
   "outputs": [],
   "source": [
    "u1 = User(name=\"alex\", email=\"alex@gmail.com\", password=\"123\")\n",
    "u2 = User(name=\"ali\", email=\"ali@gmail.com\", password=\"1234\")\n",
    "u3 = User(name=\"alankar\", email=\"alankar@gmail.com\", password=\"12345\")\n",
    "u4 = User(name=\"arti\", email=\"arti@gmail.com\", password=\"2345\")\n",
    "print(u1, u2, u3, u4)"
   ]
  },
  {
   "cell_type": "code",
   "execution_count": null,
   "metadata": {},
   "outputs": [],
   "source": [
    "save_to_db(u1)\n",
    "save_to_db(u2)\n",
    "save_to_db(u3)\n",
    "save_to_db(u4)"
   ]
  },
  {
   "cell_type": "code",
   "execution_count": null,
   "metadata": {},
   "outputs": [],
   "source": [
    "msg1 = Message(message=\"hello\", user_id=1)\n",
    "msg2 = Message(message=\"hello world\", user_id=3)\n",
    "save_to_db(msg1)\n",
    "save_to_db(msg2)"
   ]
  },
  {
   "cell_type": "markdown",
   "metadata": {},
   "source": [
    "retreiving data from users and message"
   ]
  },
  {
   "cell_type": "code",
   "execution_count": 23,
   "metadata": {},
   "outputs": [
    {
     "name": "stdout",
     "output_type": "stream",
     "text": [
      "3\n",
      "alankar\n",
      "alankar@gmail.com\n",
      "12345\n",
      "2024-04-04 13:00:46.785701\n"
     ]
    },
    {
     "name": "stderr",
     "output_type": "stream",
     "text": [
      "C:\\Users\\ZAID\\AppData\\Local\\Temp\\ipykernel_24412\\49627507.py:4: LegacyAPIWarning: The Query.get() method is considered legacy as of the 1.x series of SQLAlchemy and becomes a legacy construct in 2.0. The method is now available as Session.get() (deprecated since: 2.0) (Background on SQLAlchemy 2.0 at: https://sqlalche.me/e/b8d9)\n",
      "  user = db.query(User).get(uid)\n"
     ]
    }
   ],
   "source": [
    "db = get_db() # open the database\n",
    "# get user by id\n",
    "uid = 3\n",
    "user = db.query(User).get(uid)\n",
    "print(user.id)\n",
    "print(user.name)\n",
    "print(user.email)\n",
    "print(user.password)\n",
    "print(user.created_at)\n",
    "db.close() # close the database"
   ]
  },
  {
   "cell_type": "code",
   "execution_count": 27,
   "metadata": {},
   "outputs": [
    {
     "name": "stdout",
     "output_type": "stream",
     "text": [
      "1 alex alex@gmail.com\n",
      "2 ali ali@gmail.com\n",
      "4 arti arti@gmail.com\n"
     ]
    }
   ],
   "source": [
    "# select * from a table\n",
    "db = get_db()\n",
    "users = db.query(User).all()\n",
    "for user in users:\n",
    "    print(user.id, user.name, user.email,)\n",
    "db.close()"
   ]
  },
  {
   "cell_type": "code",
   "execution_count": 26,
   "metadata": {},
   "outputs": [
    {
     "name": "stderr",
     "output_type": "stream",
     "text": [
      "C:\\Users\\ZAID\\AppData\\Local\\Temp\\ipykernel_24412\\354258063.py:4: LegacyAPIWarning: The Query.get() method is considered legacy as of the 1.x series of SQLAlchemy and becomes a legacy construct in 2.0. The method is now available as Session.get() (deprecated since: 2.0) (Background on SQLAlchemy 2.0 at: https://sqlalche.me/e/b8d9)\n",
      "  user = db.query(User).get(uid)\n"
     ]
    }
   ],
   "source": [
    "# delete user by id\n",
    "db = get_db()\n",
    "uid = 3\n",
    "user = db.query(User).get(uid)\n",
    "if user:\n",
    "    db.delete(user)\n",
    "    db.commit()\n",
    "db.close()"
   ]
  },
  {
   "cell_type": "code",
   "execution_count": null,
   "metadata": {},
   "outputs": [],
   "source": []
  }
 ],
 "metadata": {
  "kernelspec": {
   "display_name": "base",
   "language": "python",
   "name": "python3"
  },
  "language_info": {
   "codemirror_mode": {
    "name": "ipython",
    "version": 3
   },
   "file_extension": ".py",
   "mimetype": "text/x-python",
   "name": "python",
   "nbconvert_exporter": "python",
   "pygments_lexer": "ipython3",
   "version": "3.11.7"
  }
 },
 "nbformat": 4,
 "nbformat_minor": 2
}
