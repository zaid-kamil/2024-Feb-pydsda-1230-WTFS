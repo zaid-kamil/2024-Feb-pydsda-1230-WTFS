{
 "cells": [
  {
   "cell_type": "code",
   "execution_count": null,
   "metadata": {},
   "outputs": [],
   "source": [
    "name = 'Vijay Deenanath Chauhan'\n",
    "m_name = name[6:15]\n",
    "f_name = name[:5]\n",
    "l_name = name[-7:]\n",
    "print(f_name)\n",
    "print(m_name)\n",
    "print(l_name)"
   ]
  },
  {
   "cell_type": "code",
   "execution_count": null,
   "metadata": {},
   "outputs": [],
   "source": [
    "sentence = 'The quick brown fox jumps over the lazy dog'\n",
    "print(sentence[:10]) # first 10 characters\n",
    "print(sentence[-5:]) # last 5 characters"
   ]
  },
  {
   "cell_type": "code",
   "execution_count": null,
   "metadata": {},
   "outputs": [],
   "source": [
    "amt = \"$12300\"\n",
    "int(amt[1:])"
   ]
  },
  {
   "cell_type": "code",
   "execution_count": null,
   "metadata": {},
   "outputs": [],
   "source": [
    "uname = \"@pankaj🙍📺📺\"\n",
    "uname[1:-3]"
   ]
  },
  {
   "cell_type": "markdown",
   "metadata": {},
   "source": [
    "# methods\n",
    "\n",
    "functions - are block of code, that can be used directly\n",
    "\n",
    "methods - are block of code, that can be used by an object(variable)"
   ]
  },
  {
   "cell_type": "code",
   "execution_count": null,
   "metadata": {},
   "outputs": [],
   "source": [
    "a = \"Hello\"\n",
    "a.upper()"
   ]
  },
  {
   "cell_type": "code",
   "execution_count": null,
   "metadata": {},
   "outputs": [],
   "source": [
    "word = 'Data Science'\n",
    "word2 = word.upper()\n",
    "word3 = word.lower()\n",
    "word4 = word.capitalize()\n",
    "print(f'original: {word}')\n",
    "print(f'upper: {word2}')\n",
    "print(f'lower: {word3}')\n",
    "print(f'capitalize: {word4}')"
   ]
  },
  {
   "cell_type": "markdown",
   "metadata": {},
   "source": [
    "search and replace"
   ]
  },
  {
   "cell_type": "code",
   "execution_count": null,
   "metadata": {},
   "outputs": [],
   "source": [
    "sentence = \"data science is the science of data\"\n",
    "print(sentence.find('science')) # search from index 0 by default\n",
    "print(sentence.find('is'))\n",
    "print(sentence.find('science', 6)) # find from index 6"
   ]
  },
  {
   "cell_type": "code",
   "execution_count": null,
   "metadata": {},
   "outputs": [],
   "source": [
    "sentence ='The quick brown fox jumps over the lazy dog'\n",
    "print(sentence.find('own'))\n",
    "print(sentence.find('red'))"
   ]
  },
  {
   "cell_type": "code",
   "execution_count": null,
   "metadata": {},
   "outputs": [],
   "source": [
    "print(sentence.replace('o','i'))\n",
    "print(sentence.replace('brown','green'))\n",
    "print(sentence.replace('fox','elephant').replace('dog','goat').replace('jumps','kick'))"
   ]
  },
  {
   "cell_type": "markdown",
   "metadata": {},
   "source": [
    "- count\n",
    "- split\n",
    "- join"
   ]
  },
  {
   "cell_type": "code",
   "execution_count": null,
   "metadata": {},
   "outputs": [],
   "source": [
    "story = 'once there was king named Arthur, who was a great king'\n",
    "print(story.count('king'))\n",
    "print(story.count('a'))\n",
    "print(story.count('queen'))"
   ]
  },
  {
   "cell_type": "code",
   "execution_count": null,
   "metadata": {},
   "outputs": [],
   "source": [
    "print(story.split())\n",
    "print(story.split(','))"
   ]
  },
  {
   "cell_type": "code",
   "execution_count": null,
   "metadata": {},
   "outputs": [],
   "source": [
    "poem = '''Johny Johny, Yes Papa\n",
    "Eating Sugar? No Papa\n",
    "Telling Lies? No Papa\n",
    "Open your mouth Ha! Ha! Ha!'''\n",
    "print(poem.splitlines())\n",
    "print(poem.split('Papa'))"
   ]
  },
  {
   "cell_type": "code",
   "execution_count": null,
   "metadata": {},
   "outputs": [],
   "source": [
    "pathList= ['C:','Users','Admin','Desktop','Python','Python.txt']\n",
    "print(\"/\".join(pathList))\n",
    "print(\",\".join(pathList))\n",
    "print(\"😭\".join(pathList))"
   ]
  },
  {
   "cell_type": "code",
   "execution_count": null,
   "metadata": {},
   "outputs": [],
   "source": [
    "import os\n",
    "content  = os.listdir('C:/Users/zaid/Downloads/')\n",
    "print(f'Total items = {len(content)}')"
   ]
  },
  {
   "cell_type": "markdown",
   "metadata": {},
   "source": [
    "- endswith\n",
    "- startswith"
   ]
  },
  {
   "cell_type": "code",
   "execution_count": null,
   "metadata": {},
   "outputs": [],
   "source": [
    "for item in content:\n",
    "    print(item)"
   ]
  },
  {
   "cell_type": "code",
   "execution_count": null,
   "metadata": {},
   "outputs": [],
   "source": [
    "total = 0\n",
    "for item in content:\n",
    "    if item.endswith('.pdf'):\n",
    "        print(item)\n",
    "        total += 1\n",
    "print('---'*10)\n",
    "print(f'Total  files = {total}')"
   ]
  },
  {
   "cell_type": "code",
   "execution_count": null,
   "metadata": {},
   "outputs": [],
   "source": [
    "total = 0\n",
    "for item in content:\n",
    "    if item.lower().startswith('python'):\n",
    "        print(item)\n",
    "        total += 1\n",
    "print('---'*10)\n",
    "print(f'Total  files = {total}')"
   ]
  },
  {
   "cell_type": "code",
   "execution_count": 7,
   "metadata": {},
   "outputs": [
    {
     "data": {
      "text/plain": [
       "False"
      ]
     },
     "execution_count": 7,
     "metadata": {},
     "output_type": "execute_result"
    }
   ],
   "source": [
    "n =1\n",
    "2<=n<=10"
   ]
  },
  {
   "cell_type": "code",
   "execution_count": null,
   "metadata": {},
   "outputs": [],
   "source": []
  }
 ],
 "metadata": {
  "kernelspec": {
   "display_name": "base",
   "language": "python",
   "name": "python3"
  },
  "language_info": {
   "codemirror_mode": {
    "name": "ipython",
    "version": 3
   },
   "file_extension": ".py",
   "mimetype": "text/x-python",
   "name": "python",
   "nbconvert_exporter": "python",
   "pygments_lexer": "ipython3",
   "version": "3.11.7"
  }
 },
 "nbformat": 4,
 "nbformat_minor": 2
}
