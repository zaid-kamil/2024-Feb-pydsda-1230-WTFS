{
 "cells": [
  {
   "cell_type": "code",
   "execution_count": null,
   "metadata": {},
   "outputs": [],
   "source": [
    "x = (1,2,3)\n",
    "print(x)\n",
    "\n",
    "y = 2, 5, 6 # tuple packing\n",
    "print(y)"
   ]
  },
  {
   "cell_type": "code",
   "execution_count": null,
   "metadata": {},
   "outputs": [],
   "source": [
    "for i in x:\n",
    "    print(i)"
   ]
  },
  {
   "cell_type": "code",
   "execution_count": null,
   "metadata": {},
   "outputs": [],
   "source": [
    "# x[0] = 5 # error, tuple is immutable\n",
    "print(x[0]) # first element\n",
    "print(x[-1]) # last element\n",
    "a = 1,2,3,4,5,1,4,2,5,6,\n",
    "print(a)\n",
    "print(a[:5]) # first 5 elements\n",
    "print(a[-3:]) # last 3 elements"
   ]
  },
  {
   "cell_type": "code",
   "execution_count": null,
   "metadata": {},
   "outputs": [],
   "source": [
    "# tuple has only 2 methods, count and index\n",
    "print(a.count(1)) # count of 1\n",
    "print(a.count(10)) # count of 10\n",
    "print(a.index(3)) # index of 3\n",
    "print(a.index(6)) # index of 3"
   ]
  },
  {
   "cell_type": "markdown",
   "metadata": {},
   "source": [
    "# set"
   ]
  },
  {
   "cell_type": "code",
   "execution_count": null,
   "metadata": {},
   "outputs": [],
   "source": [
    "a = {1,2,3,4,5,2,3}\n",
    "print(a) # set will remove duplicates\n",
    "b = {'apple', 'banana', 'orange','cherry',\n",
    "     'custard apple','pomegranate', 'dragon fruit',}\n",
    "print(b)\n",
    "b.add('kiwi')\n",
    "b.add('gauva')\n",
    "print(b)\n",
    "b.discard('banana')\n",
    "print(b)"
   ]
  },
  {
   "cell_type": "code",
   "execution_count": null,
   "metadata": {},
   "outputs": [],
   "source": [
    "# operations on sets\n",
    "x = {1,2,3,4,5}\n",
    "y = {4,5,6,7,8}\n",
    "# union\n",
    "print(x | y) # join of x and y & remove duplicates\n",
    "print(x.union(y))\n",
    "# intersection\n",
    "print(x & y) # common elements in x and y\n",
    "print(x.intersection(y))\n",
    "# difference\n",
    "print(x - y) # elements in x but not in y\n",
    "print(x.difference(y))\n",
    "print(y - x) # elements in y but not in x"
   ]
  },
  {
   "cell_type": "code",
   "execution_count": null,
   "metadata": {},
   "outputs": [],
   "source": [
    "# symmetric difference\n",
    "print(x ^ y) # elements in x and y but not in both\n",
    "print(x.symmetric_difference(y))"
   ]
  },
  {
   "cell_type": "markdown",
   "metadata": {},
   "source": [
    "inter conversion of list, tuple and set"
   ]
  },
  {
   "cell_type": "code",
   "execution_count": null,
   "metadata": {},
   "outputs": [],
   "source": [
    "x = [1,2,3,4,5,5,6,1,2,2]\n",
    "print(x , \"<= list\")\n",
    "xs = set(x)\n",
    "print(xs, \"<= set\")\n",
    "xt = tuple(xs)\n",
    "print(xt, \"<= tuple\")\n",
    "xl = list(xs)\n",
    "print(xl, \"<= list\")"
   ]
  },
  {
   "cell_type": "code",
   "execution_count": null,
   "metadata": {},
   "outputs": [],
   "source": []
  }
 ],
 "metadata": {
  "kernelspec": {
   "display_name": "base",
   "language": "python",
   "name": "python3"
  },
  "language_info": {
   "codemirror_mode": {
    "name": "ipython",
    "version": 3
   },
   "file_extension": ".py",
   "mimetype": "text/x-python",
   "name": "python",
   "nbconvert_exporter": "python",
   "pygments_lexer": "ipython3",
   "version": "3.11.7"
  }
 },
 "nbformat": 4,
 "nbformat_minor": 2
}
