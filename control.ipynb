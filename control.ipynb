{
 "cells": [
  {
   "cell_type": "code",
   "execution_count": 5,
   "metadata": {},
   "outputs": [
    {
     "name": "stdout",
     "output_type": "stream",
     "text": [
      "Hurray! 🎉🎉🎉🎉\n",
      "The end\n"
     ]
    }
   ],
   "source": [
    "x = int(input('Give me number:'))\n",
    "if x >= 10:\n",
    "    print(\"Hurray! 🎉🎉🎉🎉\")    \n",
    "print(\"The end\")"
   ]
  },
  {
   "cell_type": "code",
   "execution_count": 6,
   "metadata": {},
   "outputs": [
    {
     "name": "stdout",
     "output_type": "stream",
     "text": [
      "Even\n"
     ]
    }
   ],
   "source": [
    "if x % 2 == 0:\n",
    "    print(\"Even\")"
   ]
  },
  {
   "cell_type": "code",
   "execution_count": 8,
   "metadata": {},
   "outputs": [
    {
     "name": "stdout",
     "output_type": "stream",
     "text": [
      "we can buy it\n"
     ]
    }
   ],
   "source": [
    "price = 1300\n",
    "if price > 2000:\n",
    "    print(\"Expensive\")\n",
    "else:\n",
    "    print('we can buy it')"
   ]
  },
  {
   "cell_type": "code",
   "execution_count": 23,
   "metadata": {},
   "outputs": [
    {
     "name": "stdout",
     "output_type": "stream",
     "text": [
      "546/600 = 91.00%\n",
      "Grade: A\n"
     ]
    }
   ],
   "source": [
    "marks = int(input('Enter your marks:'))\n",
    "total = 600\n",
    "pct = marks/total*100\n",
    "print(f'{marks}/{total} = {pct:.2f}%')\n",
    "if pct > 90:\n",
    "    grade = 'A'\n",
    "elif pct >= 75:\n",
    "    grade = 'B'\n",
    "elif pct >= 60:\n",
    "    grade = 'C'\n",
    "elif pct >= 40:\n",
    "    grade = 'D'\n",
    "else:\n",
    "    grade = 'F'\n",
    "print(f'Grade: {grade}')"
   ]
  },
  {
   "cell_type": "code",
   "execution_count": 21,
   "metadata": {},
   "outputs": [
    {
     "name": "stdout",
     "output_type": "stream",
     "text": [
      "What is the capital of Bihar?\n"
     ]
    }
   ],
   "source": [
    "print(\"What is the capital of Bihar?\")\n",
    "ans = input('Your answer:')\n",
    "match ans:\n",
    "    case 'delhi':\n",
    "        print(\"Incorrect\")\n",
    "    case 'patna'|'Patna':\n",
    "        print(\"Correct\")\n",
    "    case _:\n",
    "        print(\"Invalid answer\")"
   ]
  },
  {
   "cell_type": "markdown",
   "metadata": {},
   "source": [
    "loops\n",
    "- iteration based `for`\n",
    "- condition based `while`"
   ]
  },
  {
   "cell_type": "code",
   "execution_count": null,
   "metadata": {},
   "outputs": [],
   "source": []
  }
 ],
 "metadata": {
  "kernelspec": {
   "display_name": "base",
   "language": "python",
   "name": "python3"
  },
  "language_info": {
   "codemirror_mode": {
    "name": "ipython",
    "version": 3
   },
   "file_extension": ".py",
   "mimetype": "text/x-python",
   "name": "python",
   "nbconvert_exporter": "python",
   "pygments_lexer": "ipython3",
   "version": "3.11.7"
  }
 },
 "nbformat": 4,
 "nbformat_minor": 2
}
