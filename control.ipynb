{
 "cells": [
  {
   "cell_type": "code",
   "execution_count": null,
   "metadata": {},
   "outputs": [],
   "source": [
    "x = int(input('Give me number:'))\n",
    "if x >= 10:\n",
    "    print(\"Hurray! 🎉🎉🎉🎉\")    \n",
    "print(\"The end\")"
   ]
  },
  {
   "cell_type": "code",
   "execution_count": null,
   "metadata": {},
   "outputs": [],
   "source": [
    "if x % 2 == 0:\n",
    "    print(\"Even\")"
   ]
  },
  {
   "cell_type": "code",
   "execution_count": null,
   "metadata": {},
   "outputs": [],
   "source": [
    "price = 1300\n",
    "if price > 2000:\n",
    "    print(\"Expensive\")\n",
    "else:\n",
    "    print('we can buy it')"
   ]
  },
  {
   "cell_type": "code",
   "execution_count": null,
   "metadata": {},
   "outputs": [],
   "source": [
    "marks = int(input('Enter your marks:'))\n",
    "total = 600\n",
    "pct = marks/total*100\n",
    "print(f'{marks}/{total} = {pct:.2f}%')\n",
    "if pct > 90:\n",
    "    grade = 'A'\n",
    "elif pct >= 75:\n",
    "    grade = 'B'\n",
    "elif pct >= 60:\n",
    "    grade = 'C'\n",
    "elif pct >= 40:\n",
    "    grade = 'D'\n",
    "else:\n",
    "    grade = 'F'\n",
    "print(f'Grade: {grade}')"
   ]
  },
  {
   "cell_type": "code",
   "execution_count": null,
   "metadata": {},
   "outputs": [],
   "source": [
    "print(\"What is the capital of Bihar?\")\n",
    "ans = input('Your answer:')\n",
    "match ans:\n",
    "    case 'delhi':\n",
    "        print(\"Incorrect\")\n",
    "    case 'patna'|'Patna':\n",
    "        print(\"Correct\")\n",
    "    case _:\n",
    "        print(\"Invalid answer\")"
   ]
  },
  {
   "cell_type": "markdown",
   "metadata": {},
   "source": [
    "loops\n",
    "- iteration based `for`\n",
    "- condition based `while`"
   ]
  },
  {
   "cell_type": "code",
   "execution_count": null,
   "metadata": {},
   "outputs": [],
   "source": [
    "movies = [\n",
    "    \"The Shawshank Redemption\",\n",
    "    \"The Godfather\",\n",
    "    \"The Dark Knight\",\n",
    "    \"Schindler's List\",\n",
    "    \"Pulp Fiction\",\n",
    "    \"The Lord of the Rings: The Return of the King\",\n",
    "    \"The Good, the Bad and the Ugly\",\n",
    "    \"Fight Club\",\n",
    "    \"Forrest Gump\",\n",
    "    \"Inception\",\n",
    "    \"Star Wars: Episode V - The Empire Strikes Back\",\n",
    "    \"The Lord of the Rings: The Fellowship of the Ring\",\n",
    "    \"The Matrix\",\n",
    "    \"Goodfellas\",\n",
    "    \"One Flew Over the Cuckoo's Nest\",\n",
    "    \"Seven Samurai\",\n",
    "    \"Se7en\",\n",
    "    \"City of God\",\n",
    "    \"The Silence of the Lambs\",\n",
    "    \"It's a Wonderful Life\",\n",
    "    \"Life is Beautiful\",\n",
    "    \"The Usual Suspects\",\n",
    "    \"Léon: The Professional\",\n",
    "    \"Saving Private Ryan\",\n",
    "    \"The Green Mile\",\n",
    "    \"The Lion King\"\n",
    "]"
   ]
  },
  {
   "cell_type": "markdown",
   "metadata": {},
   "source": [
    "```\n",
    "for item in iterable:\n",
    "    statement 1\n",
    "    ...\n",
    "    statement n\n",
    "```"
   ]
  },
  {
   "cell_type": "code",
   "execution_count": null,
   "metadata": {},
   "outputs": [],
   "source": [
    "for i in movies:\n",
    "    print(i)"
   ]
  },
  {
   "cell_type": "code",
   "execution_count": null,
   "metadata": {},
   "outputs": [],
   "source": [
    "for i in [12,45,56,122]:\n",
    "    print(i)"
   ]
  },
  {
   "cell_type": "code",
   "execution_count": null,
   "metadata": {},
   "outputs": [],
   "source": [
    "for i in range(10, 0, -1):\n",
    "    print(i)"
   ]
  },
  {
   "cell_type": "code",
   "execution_count": null,
   "metadata": {},
   "outputs": [],
   "source": [
    "for i in range(2, 21, 2):\n",
    "    print(i)"
   ]
  },
  {
   "cell_type": "code",
   "execution_count": null,
   "metadata": {},
   "outputs": [],
   "source": [
    "for name in movies:\n",
    "    if 'the' in name.lower():\n",
    "        print(name)"
   ]
  },
  {
   "cell_type": "code",
   "execution_count": null,
   "metadata": {},
   "outputs": [],
   "source": [
    "x = [3,2,1,5,6]\n",
    "total = 0\n",
    "for i in x:\n",
    "    total += i\n",
    "print(total)"
   ]
  },
  {
   "cell_type": "code",
   "execution_count": null,
   "metadata": {},
   "outputs": [],
   "source": [
    "sum(x) # pythonic way"
   ]
  },
  {
   "cell_type": "code",
   "execution_count": null,
   "metadata": {},
   "outputs": [],
   "source": [
    "n = 25\n",
    "fact = 1\n",
    "for i in range(2, n+1):\n",
    "    fact *= i\n",
    "print(fact)"
   ]
  },
  {
   "cell_type": "code",
   "execution_count": null,
   "metadata": {},
   "outputs": [],
   "source": [
    "a = 1\n",
    "while a < 10:\n",
    "    print(a)\n",
    "    a += 1"
   ]
  },
  {
   "cell_type": "code",
   "execution_count": 39,
   "metadata": {},
   "outputs": [
    {
     "name": "stdout",
     "output_type": "stream",
     "text": [
      "invalid input\n",
      "invalid input\n",
      "very good\n"
     ]
    }
   ],
   "source": [
    "while True:\n",
    "    x = input('Enter a number:')\n",
    "    if x.isnumeric():\n",
    "        print('very good')\n",
    "        break\n",
    "    else:\n",
    "        print('invalid input')"
   ]
  },
  {
   "cell_type": "code",
   "execution_count": null,
   "metadata": {},
   "outputs": [],
   "source": []
  }
 ],
 "metadata": {
  "kernelspec": {
   "display_name": "base",
   "language": "python",
   "name": "python3"
  },
  "language_info": {
   "codemirror_mode": {
    "name": "ipython",
    "version": 3
   },
   "file_extension": ".py",
   "mimetype": "text/x-python",
   "name": "python",
   "nbconvert_exporter": "python",
   "pygments_lexer": "ipython3",
   "version": "3.11.7"
  }
 },
 "nbformat": 4,
 "nbformat_minor": 2
}
