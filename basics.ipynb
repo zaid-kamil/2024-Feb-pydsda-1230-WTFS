{
 "cells": [
  {
   "cell_type": "code",
   "execution_count": null,
   "metadata": {},
   "outputs": [],
   "source": [
    "a = 1230"
   ]
  },
  {
   "cell_type": "code",
   "execution_count": null,
   "metadata": {},
   "outputs": [],
   "source": [
    "120000 * 1.23 * 10 / 100"
   ]
  },
  {
   "cell_type": "code",
   "execution_count": null,
   "metadata": {},
   "outputs": [],
   "source": [
    "p = 120000\n",
    "r = 1.23\n",
    "t = 10\n",
    "si = p * r * t / 100\n",
    "print(si)"
   ]
  },
  {
   "cell_type": "code",
   "execution_count": null,
   "metadata": {},
   "outputs": [],
   "source": [
    "a = 3902\n",
    "b = 3290.123\n",
    "c = \"this is sparta\"\n",
    "d = True\n",
    "e = None"
   ]
  },
  {
   "cell_type": "code",
   "execution_count": null,
   "metadata": {},
   "outputs": [],
   "source": [
    "fruits = [\"apple\", \"banana\", \"cherry\"] # list\n",
    "coords = (23.32, 32.00, 3.022) # tuple\n",
    "person = {\"name\": \"John\", \"age\": 36} # dictionary\n",
    "movies = {'avengers', 'ironman', 'hulk'} # set"
   ]
  },
  {
   "cell_type": "code",
   "execution_count": null,
   "metadata": {},
   "outputs": [],
   "source": [
    "'apple' in fruits"
   ]
  },
  {
   "cell_type": "code",
   "execution_count": null,
   "metadata": {},
   "outputs": [],
   "source": [
    "'avocado' in fruits"
   ]
  },
  {
   "cell_type": "markdown",
   "metadata": {},
   "source": [
    "input and output"
   ]
  },
  {
   "cell_type": "code",
   "execution_count": null,
   "metadata": {},
   "outputs": [],
   "source": [
    "name = input(\"enter your name\")\n",
    "iq = int(input(\"what your iq(1-150)\"))"
   ]
  },
  {
   "cell_type": "code",
   "execution_count": null,
   "metadata": {},
   "outputs": [],
   "source": [
    "pi = 22/7\n",
    "r = float(input(\"Radius:\"))\n",
    "area = pi * r ** 2"
   ]
  },
  {
   "cell_type": "code",
   "execution_count": 31,
   "metadata": {},
   "outputs": [
    {
     "name": "stdout",
     "output_type": "stream",
     "text": [
      "for a radius of 6.0 , the area is 113.14285714285714\n"
     ]
    }
   ],
   "source": [
    "print('for a radius of', r, ', the area is', area)"
   ]
  },
  {
   "cell_type": "code",
   "execution_count": null,
   "metadata": {},
   "outputs": [],
   "source": [
    "print('apple','banana','cherry')\n",
    "print('apple','banana','cherry', sep=',')\n",
    "print('apple','banana','cherry', sep='\\n')"
   ]
  },
  {
   "cell_type": "code",
   "execution_count": 38,
   "metadata": {},
   "outputs": [
    {
     "name": "stdout",
     "output_type": "stream",
     "text": [
      "for a radius of 6.0,the area is 113.1 🎉\n"
     ]
    }
   ],
   "source": [
    "print(f\"for a radius of {r},the area is {area:.1f} 🎉\")"
   ]
  },
  {
   "cell_type": "code",
   "execution_count": 42,
   "metadata": {},
   "outputs": [
    {
     "name": "stdout",
     "output_type": "stream",
     "text": [
      "Integer 3902\n",
      "Float 3290.123\n",
      "String `this is sparta`\n",
      "Boolean True\n",
      "Nonetype None\n"
     ]
    }
   ],
   "source": [
    "print(f'Integer {a}')\n",
    "print(f'Float {b}')\n",
    "print(f'String `{c}`')\n",
    "print(f'Boolean {d}')\n",
    "print(f'Nonetype {e}')"
   ]
  },
  {
   "cell_type": "code",
   "execution_count": null,
   "metadata": {},
   "outputs": [],
   "source": []
  }
 ],
 "metadata": {
  "kernelspec": {
   "display_name": "base",
   "language": "python",
   "name": "python3"
  },
  "language_info": {
   "codemirror_mode": {
    "name": "ipython",
    "version": 3
   },
   "file_extension": ".py",
   "mimetype": "text/x-python",
   "name": "python",
   "nbconvert_exporter": "python",
   "pygments_lexer": "ipython3",
   "version": "3.11.7"
  }
 },
 "nbformat": 4,
 "nbformat_minor": 2
}
